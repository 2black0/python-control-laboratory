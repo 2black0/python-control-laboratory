{
 "cells": [
  {
   "cell_type": "markdown",
   "id": "1b65ad08-87cc-40d4-9bc2-7310cf5b3a13",
   "metadata": {},
   "source": [
    "# Task 1\n",
    "Transfer Function Representation\n"
   ]
  },
  {
   "cell_type": "code",
   "execution_count": 4,
   "id": "169f0303-5241-48db-bba9-3efedae84212",
   "metadata": {},
   "outputs": [],
   "source": [
    "import control\n",
    "\n",
    "sys = control.TransferFunction([1], [1, 1])"
   ]
  },
  {
   "cell_type": "code",
   "execution_count": 9,
   "id": "e9765c38-1f60-443f-b6c0-14c998a3bbc0",
   "metadata": {},
   "outputs": [
    {
     "name": "stdout",
     "output_type": "stream",
     "text": [
      "\n",
      "  1\n",
      "-----\n",
      "s + 1\n",
      "\n",
      "[[array([1])]]\n",
      "[[array([1, 1])]]\n"
     ]
    }
   ],
   "source": [
    "import control\n",
    "\n",
    "sys = control.TransferFunction([1], [1, 1])\n",
    "print(sys)\n",
    "print(sys.num)\n",
    "print(sys.den)"
   ]
  },
  {
   "cell_type": "markdown",
   "id": "2ff972a9-a78d-4ea6-ad9e-dcc9696668d5",
   "metadata": {},
   "source": [
    "# Task 2\n",
    "First Order System\n"
   ]
  },
  {
   "cell_type": "code",
   "execution_count": 12,
   "id": "15e5c22a-c8eb-4469-91b7-ce4dbea22a44",
   "metadata": {},
   "outputs": [
    {
     "name": "stdout",
     "output_type": "stream",
     "text": [
      "\n",
      "   2.5\n",
      "---------\n",
      "0.8 s + 1\n",
      "\n"
     ]
    }
   ],
   "source": [
    "K = 2.5  # Gain\n",
    "tau = 0.8  # Time constant\n",
    "\n",
    "num = [K]\n",
    "den = [tau, 1]\n",
    "tf_first_order = control.TransferFunction(num, den)\n",
    "\n",
    "print(tf_first_order)"
   ]
  },
  {
   "cell_type": "markdown",
   "id": "2bf5a939-52f9-461a-976f-a4f98b04359e",
   "metadata": {},
   "source": [
    "# Task 3\n",
    "Second Order System"
   ]
  },
  {
   "cell_type": "code",
   "execution_count": 13,
   "id": "6fb4679c-ee7d-4b43-8b23-5e922d3dbc6e",
   "metadata": {},
   "outputs": [
    {
     "name": "stdout",
     "output_type": "stream",
     "text": [
      "\n",
      "       6\n",
      "---------------\n",
      "s^2 + 2.4 s + 4\n",
      "\n"
     ]
    }
   ],
   "source": [
    "K = 1.5  # Gain\n",
    "zeta = 0.6  # Damping ratio\n",
    "omega_n = 2  # Natural frequency\n",
    "\n",
    "num = [K * omega_n**2]\n",
    "den = [1, 2 * zeta * omega_n, omega_n**2]\n",
    "tf_second_order = control.TransferFunction(num, den)\n",
    "\n",
    "print(tf_second_order)"
   ]
  },
  {
   "cell_type": "markdown",
   "id": "03f7d6b5-b375-4430-9d82-b9c0fe985af6",
   "metadata": {},
   "source": [
    "# Task 4\n",
    "Combination of Transfer Function\n"
   ]
  },
  {
   "cell_type": "code",
   "execution_count": 14,
   "id": "52910e0e-e149-4a82-aab5-da7a9f8dd940",
   "metadata": {},
   "outputs": [],
   "source": [
    "# First-order transfer function\n",
    "K1 = 2.5\n",
    "tau1 = 0.8\n",
    "num1 = [K1]\n",
    "den1 = [tau1, 1]\n",
    "H1 = control.TransferFunction(num1, den1)\n",
    "\n",
    "# Second-order transfer function\n",
    "K2 = 1.5\n",
    "zeta2 = 0.6\n",
    "omega_n2 = 2\n",
    "num2 = [K2 * omega_n2**2]\n",
    "den2 = [1, 2 * zeta2 * omega_n2, omega_n2**2]\n",
    "H2 = control.TransferFunction(num2, den2)"
   ]
  },
  {
   "cell_type": "code",
   "execution_count": 15,
   "id": "cc5dc9af-7f12-4256-a349-65288feea3e7",
   "metadata": {},
   "outputs": [
    {
     "name": "stdout",
     "output_type": "stream",
     "text": [
      "Transfer Function in Series:\n",
      "\n",
      "              15\n",
      "------------------------------\n",
      "0.8 s^3 + 2.92 s^2 + 5.6 s + 4\n",
      "\n"
     ]
    }
   ],
   "source": [
    "# Series\n",
    "tf_series = control.series(H1, H2)\n",
    "\n",
    "print(\"Transfer Function in Series:\")\n",
    "print(tf_series)"
   ]
  },
  {
   "cell_type": "code",
   "execution_count": 16,
   "id": "b209954f-2060-4653-9873-a21832f1389b",
   "metadata": {},
   "outputs": [
    {
     "name": "stdout",
     "output_type": "stream",
     "text": [
      "\n",
      "Transfer Function in Parallel:\n",
      "\n",
      "    2.5 s^2 + 10.8 s + 16\n",
      "------------------------------\n",
      "0.8 s^3 + 2.92 s^2 + 5.6 s + 4\n",
      "\n"
     ]
    }
   ],
   "source": [
    "# Parallel\n",
    "tf_parallel = control.parallel(H1, H2)\n",
    "\n",
    "print(\"\\nTransfer Function in Parallel:\")\n",
    "print(tf_parallel)"
   ]
  },
  {
   "cell_type": "code",
   "execution_count": 17,
   "id": "82eb0a2a-c35c-4aac-a03a-45df255cc7fc",
   "metadata": {},
   "outputs": [
    {
     "name": "stdout",
     "output_type": "stream",
     "text": [
      "\n",
      "Transfer Function in Feedback:\n",
      "\n",
      "      2.5 s^2 + 6 s + 10\n",
      "-------------------------------\n",
      "0.8 s^3 + 2.92 s^2 + 5.6 s + 19\n",
      "\n"
     ]
    }
   ],
   "source": [
    "# Parallel\n",
    "tf_feedback = control.feedback(H1, H2)\n",
    "\n",
    "print(\"\\nTransfer Function in Feedback:\")\n",
    "print(tf_feedback)"
   ]
  },
  {
   "cell_type": "code",
   "execution_count": null,
   "id": "bc6c7bff-1711-4690-8cab-6f2d71e8fd31",
   "metadata": {},
   "outputs": [],
   "source": []
  }
 ],
 "metadata": {
  "kernelspec": {
   "display_name": "Python 3 (ipykernel)",
   "language": "python",
   "name": "python3"
  },
  "language_info": {
   "codemirror_mode": {
    "name": "ipython",
    "version": 3
   },
   "file_extension": ".py",
   "mimetype": "text/x-python",
   "name": "python",
   "nbconvert_exporter": "python",
   "pygments_lexer": "ipython3",
   "version": "3.11.4"
  }
 },
 "nbformat": 4,
 "nbformat_minor": 5
}
