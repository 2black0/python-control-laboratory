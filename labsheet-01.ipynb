{
 "cells": [
  {
   "cell_type": "markdown",
   "id": "146f8fc5-49d3-4b01-ad69-e1f8ad34d170",
   "metadata": {},
   "source": [
    "# Exercise 2\n",
    "## Basic Python Programming Language"
   ]
  },
  {
   "cell_type": "code",
   "execution_count": 1,
   "id": "8aeb66ae-c819-4dbb-b497-8a3f4c463cd1",
   "metadata": {},
   "outputs": [
    {
     "name": "stdout",
     "output_type": "stream",
     "text": [
      "10\n"
     ]
    }
   ],
   "source": [
    "# Variables\n",
    "my_variable = 10\n",
    "print(my_variable)"
   ]
  },
  {
   "cell_type": "code",
   "execution_count": 2,
   "id": "781c0d1c-c42f-4d8b-a20a-6a4a517d46bf",
   "metadata": {},
   "outputs": [
    {
     "name": "stdout",
     "output_type": "stream",
     "text": [
      "10 <class 'int'>\n",
      "10.0 <class 'float'>\n",
      "Hello, world! <class 'str'>\n",
      "[1, 2, 3] <class 'list'>\n",
      "{'key1': 'value1', 'key2': 'value2'} <class 'dict'>\n"
     ]
    }
   ],
   "source": [
    "# Data types\n",
    "integer = 10\n",
    "float = 10.0\n",
    "string = \"Hello, world!\"\n",
    "list = [1, 2, 3]\n",
    "dictionary = {\"key1\": \"value1\", \"key2\": \"value2\"}\n",
    "\n",
    "print(integer, type(integer))\n",
    "print(float, type(float))\n",
    "print(string, type(string))\n",
    "print(list, type(list))\n",
    "print(dictionary, type(dictionary))"
   ]
  },
  {
   "cell_type": "code",
   "execution_count": 3,
   "id": "d0039ef0-d9dc-4f69-b75a-f5089e59a32e",
   "metadata": {},
   "outputs": [
    {
     "name": "stdout",
     "output_type": "stream",
     "text": [
      "30\n",
      "-10\n",
      "200\n",
      "0.5\n",
      "10\n"
     ]
    }
   ],
   "source": [
    "# Operators\n",
    "print(10 + 20)\n",
    "print(10 - 20)\n",
    "print(10 * 20)\n",
    "print(10 / 20)\n",
    "print(10 % 20)"
   ]
  },
  {
   "cell_type": "code",
   "execution_count": 4,
   "id": "e31f8631-0706-45d8-a7ec-b73aea372d5f",
   "metadata": {},
   "outputs": [
    {
     "name": "stdout",
     "output_type": "stream",
     "text": [
      "10 is not greater than 20\n"
     ]
    }
   ],
   "source": [
    "# Control flow\n",
    "if 10 > 20:\n",
    "    print(\"10 is greater than 20\")\n",
    "else:\n",
    "    print(\"10 is not greater than 20\")"
   ]
  },
  {
   "cell_type": "code",
   "execution_count": 5,
   "id": "879fea31-3139-476e-8879-43e8d193d6b5",
   "metadata": {},
   "outputs": [
    {
     "name": "stdout",
     "output_type": "stream",
     "text": [
      "0\n",
      "1\n",
      "2\n",
      "3\n",
      "4\n",
      "5\n",
      "6\n",
      "7\n",
      "8\n",
      "9\n"
     ]
    }
   ],
   "source": [
    "for i in range(10):\n",
    "    print(i)"
   ]
  },
  {
   "cell_type": "code",
   "execution_count": 6,
   "id": "53251ea4-02f5-49f5-8020-098771087e9b",
   "metadata": {},
   "outputs": [
    {
     "name": "stdout",
     "output_type": "stream",
     "text": [
      "9\n"
     ]
    }
   ],
   "source": [
    "while i < 10:\n",
    "    print(i)\n",
    "    i += 1"
   ]
  },
  {
   "cell_type": "code",
   "execution_count": 7,
   "id": "ed90c667-b37b-46a6-84f7-1a69c0b12703",
   "metadata": {},
   "outputs": [
    {
     "name": "stdout",
     "output_type": "stream",
     "text": [
      "Hello, Alice!\n"
     ]
    }
   ],
   "source": [
    "# Function\n",
    "def greet(name):\n",
    "    print(f\"Hello, {name}!\")\n",
    "\n",
    "greet(\"Alice\")"
   ]
  },
  {
   "cell_type": "code",
   "execution_count": 8,
   "id": "a1304a16-189d-4754-afa9-b790220225ba",
   "metadata": {},
   "outputs": [
    {
     "name": "stdout",
     "output_type": "stream",
     "text": [
      "5\n"
     ]
    }
   ],
   "source": [
    "def multiply_numbers(num1, num2=1):\n",
    "    return num1 * num2\n",
    "\n",
    "result = multiply_numbers(5)\n",
    "print(result)  # Output: 5"
   ]
  },
  {
   "cell_type": "markdown",
   "id": "aa1c7e80-876e-405a-a234-d1159334aea1",
   "metadata": {},
   "source": [
    "# Exercise 3\n",
    "## Importing the python control and matplotlib modules"
   ]
  },
  {
   "cell_type": "code",
   "execution_count": 9,
   "id": "fa83a416-c53b-4a9e-8f32-f25cb4f74036",
   "metadata": {},
   "outputs": [],
   "source": [
    "import control\n",
    "import matplotlib "
   ]
  },
  {
   "cell_type": "code",
   "execution_count": 10,
   "id": "6badd7d5-c4e2-484e-8a2f-1569e27d62b3",
   "metadata": {},
   "outputs": [
    {
     "name": "stdout",
     "output_type": "stream",
     "text": [
      "0.9.4\n",
      "3.7.1\n"
     ]
    }
   ],
   "source": [
    "print(control.__version__)\n",
    "print(matplotlib.__version__)"
   ]
  },
  {
   "cell_type": "markdown",
   "id": "3cf75dfe-5a35-4889-a1aa-5ccdad21c1ae",
   "metadata": {},
   "source": [
    "# Exercise 3\n",
    "Basic Jupyter Notebook\n"
   ]
  },
  {
   "cell_type": "code",
   "execution_count": 11,
   "id": "2ac7289f-11b7-4663-bbce-6d774625dda9",
   "metadata": {},
   "outputs": [],
   "source": [
    "# Markdown"
   ]
  },
  {
   "cell_type": "markdown",
   "id": "4818bc85-7ebf-4b7e-9802-429af2569c55",
   "metadata": {},
   "source": [
    "Markdown supports tables:\n",
    "\n",
    "| Column 1 | Column 2 |\n",
    "| -------- | -------- |\n",
    "| Row 1, Column 1 | Row 1, Column 2 |\n",
    "| Row 2, Column 1 | Row 2, Column 2 |\n",
    "\n",
    "You can display code blocks with syntax highlighting:\n",
    "```Python\n",
    "def multiply_numbers(num1, num2=1):\n",
    "    return num1 * num2\n",
    "\n",
    "result = multiply_numbers(5)\n",
    "print(result)  # Output: 5\n",
    "```\n",
    "\n",
    "You can include mathematical equations using LaTeX syntax:\n",
    "\n",
    "$$\n",
    "m_n = k_p*e_n + \\frac{k_e*T}{T_{reset}}\\sum_{i=0}^{n}e_i + k_d\\frac{e_n - e_{n-1}}{\\delta t} + m_{R}\n",
    "$$\n",
    "\n",
    "You can use basic formatting options like *italic*, **bold**, and `code` highlighting.\n",
    "\n",
    "Markdown supports both ordered and unordered lists:\n",
    "\n",
    "- Unordered List Item 1\n",
    "- Unordered List Item 2\n",
    "- Unordered List Item 3\n",
    "\n",
    "1. Ordered List Item 1\n",
    "2. Ordered List Item 2\n",
    "3. Ordered List Item 3\n",
    "\n",
    "You can add \n",
    "- [Google](https://google.com)\n",
    "- [labsheet-01.ipynb](labsheet-01.ipynb)\n",
    "\n",
    "Embedding images is also possible:\n",
    "![Google Logo](google.png)"
   ]
  },
  {
   "cell_type": "code",
   "execution_count": 12,
   "id": "773d59ef-a174-4c22-8396-1c09f1467ae8",
   "metadata": {},
   "outputs": [],
   "source": [
    "# Widgets"
   ]
  },
  {
   "cell_type": "code",
   "execution_count": 13,
   "id": "753f3b25-141c-4627-81b9-e15b1ae4d444",
   "metadata": {},
   "outputs": [
    {
     "data": {
      "application/vnd.jupyter.widget-view+json": {
       "model_id": "1a39539aaf954133b0aa7c3b3d575f78",
       "version_major": 2,
       "version_minor": 0
      },
      "text/plain": [
       "Text(value='Hello', description='Enter text:')"
      ]
     },
     "metadata": {},
     "output_type": "display_data"
    },
    {
     "data": {
      "application/vnd.jupyter.widget-view+json": {
       "model_id": "cd9f70917d384cd2a4883bc16d64340b",
       "version_major": 2,
       "version_minor": 0
      },
      "text/plain": [
       "Button(description='Click me!', style=ButtonStyle())"
      ]
     },
     "metadata": {},
     "output_type": "display_data"
    },
    {
     "data": {
      "application/vnd.jupyter.widget-view+json": {
       "model_id": "b30c6ea9cc12428486052b517eb51d45",
       "version_major": 2,
       "version_minor": 0
      },
      "text/plain": [
       "Dropdown(description='Select an option:', options=('Option 1', 'Option 2', 'Option 3'), value='Option 1')"
      ]
     },
     "metadata": {},
     "output_type": "display_data"
    },
    {
     "data": {
      "application/vnd.jupyter.widget-view+json": {
       "model_id": "d671e62a814e4962b9989e137010ecda",
       "version_major": 2,
       "version_minor": 0
      },
      "text/plain": [
       "IntSlider(value=50, description='Slider:')"
      ]
     },
     "metadata": {},
     "output_type": "display_data"
    },
    {
     "data": {
      "application/vnd.jupyter.widget-view+json": {
       "model_id": "784264c851e6460f81b0e7da130d899c",
       "version_major": 2,
       "version_minor": 0
      },
      "text/plain": [
       "Output()"
      ]
     },
     "metadata": {},
     "output_type": "display_data"
    }
   ],
   "source": [
    "import ipywidgets as widgets\n",
    "from IPython.display import display\n",
    "\n",
    "# Create a text input widget\n",
    "text_input = widgets.Text(value='Hello', description='Enter text:')\n",
    "\n",
    "# Create a button widget\n",
    "button = widgets.Button(description='Click me!')\n",
    "\n",
    "# Create a dropdown menu widget\n",
    "dropdown = widgets.Dropdown(options=['Option 1', 'Option 2', 'Option 3'], description='Select an option:')\n",
    "\n",
    "# Create a slider widget\n",
    "slider = widgets.IntSlider(value=50, min=0, max=100, step=1, description='Slider:')\n",
    "\n",
    "# Create an output widget\n",
    "output = widgets.Output()\n",
    "\n",
    "# Event handler for the button click\n",
    "def on_button_click(button):\n",
    "    with output:\n",
    "        print(f\"Text: {text_input.value}\")\n",
    "        print(f\"Selected option: {dropdown.value}\")\n",
    "        print(f\"Slider value: {slider.value}\")\n",
    "\n",
    "# Assign the event handler to the button's on_click event\n",
    "button.on_click(on_button_click)\n",
    "\n",
    "# Display the widgets\n",
    "display(text_input)\n",
    "display(button)\n",
    "display(dropdown)\n",
    "display(slider)\n",
    "display(output)"
   ]
  },
  {
   "cell_type": "code",
   "execution_count": null,
   "id": "26e74e14-e9c7-414e-b66e-9a5fb03d9e23",
   "metadata": {},
   "outputs": [],
   "source": []
  }
 ],
 "metadata": {
  "kernelspec": {
   "display_name": "Python 3 (ipykernel)",
   "language": "python",
   "name": "python3"
  },
  "language_info": {
   "codemirror_mode": {
    "name": "ipython",
    "version": 3
   },
   "file_extension": ".py",
   "mimetype": "text/x-python",
   "name": "python",
   "nbconvert_exporter": "python",
   "pygments_lexer": "ipython3",
   "version": "3.11.4"
  }
 },
 "nbformat": 4,
 "nbformat_minor": 5
}
