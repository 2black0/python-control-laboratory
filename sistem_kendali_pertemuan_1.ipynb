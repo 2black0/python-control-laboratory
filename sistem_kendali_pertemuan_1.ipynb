{
  "nbformat": 4,
  "nbformat_minor": 0,
  "metadata": {
    "colab": {
      "name": "sistem-kendali-pertemuan-1",
      "provenance": []
    },
    "kernelspec": {
      "name": "python3",
      "display_name": "Python 3"
    },
    "language_info": {
      "name": "python"
    },
    "widgets": {
      "application/vnd.jupyter.widget-state+json": {
        "456cfb8705d949368ff6c7a284967348": {
          "model_module": "@jupyter-widgets/controls",
          "model_name": "VBoxModel",
          "model_module_version": "1.5.0",
          "state": {
            "_view_name": "VBoxView",
            "_dom_classes": [
              "widget-interact"
            ],
            "_model_name": "VBoxModel",
            "_view_module": "@jupyter-widgets/controls",
            "_model_module_version": "1.5.0",
            "_view_count": null,
            "_view_module_version": "1.5.0",
            "box_style": "",
            "layout": "IPY_MODEL_f74c5320827d4adc9f3b7d9d04b932c8",
            "_model_module": "@jupyter-widgets/controls",
            "children": [
              "IPY_MODEL_2e423ccb47364ec6b5c5ee4aebcd8e39",
              "IPY_MODEL_f7d2ade29feb46a5a06d3eabd481e40b"
            ]
          }
        },
        "f74c5320827d4adc9f3b7d9d04b932c8": {
          "model_module": "@jupyter-widgets/base",
          "model_name": "LayoutModel",
          "model_module_version": "1.2.0",
          "state": {
            "_view_name": "LayoutView",
            "grid_template_rows": null,
            "right": null,
            "justify_content": null,
            "_view_module": "@jupyter-widgets/base",
            "overflow": null,
            "_model_module_version": "1.2.0",
            "_view_count": null,
            "flex_flow": null,
            "width": null,
            "min_width": null,
            "border": null,
            "align_items": null,
            "bottom": null,
            "_model_module": "@jupyter-widgets/base",
            "top": null,
            "grid_column": null,
            "overflow_y": null,
            "overflow_x": null,
            "grid_auto_flow": null,
            "grid_area": null,
            "grid_template_columns": null,
            "flex": null,
            "_model_name": "LayoutModel",
            "justify_items": null,
            "grid_row": null,
            "max_height": null,
            "align_content": null,
            "visibility": null,
            "align_self": null,
            "height": null,
            "min_height": null,
            "padding": null,
            "grid_auto_rows": null,
            "grid_gap": null,
            "max_width": null,
            "order": null,
            "_view_module_version": "1.2.0",
            "grid_template_areas": null,
            "object_position": null,
            "object_fit": null,
            "grid_auto_columns": null,
            "margin": null,
            "display": null,
            "left": null
          }
        },
        "2e423ccb47364ec6b5c5ee4aebcd8e39": {
          "model_module": "@jupyter-widgets/controls",
          "model_name": "IntSliderModel",
          "model_module_version": "1.5.0",
          "state": {
            "_view_name": "IntSliderView",
            "style": "IPY_MODEL_70635e5142e145b7a245d72593e6064f",
            "_dom_classes": [],
            "description": "x",
            "step": 1,
            "_model_name": "IntSliderModel",
            "orientation": "horizontal",
            "max": 30,
            "_view_module": "@jupyter-widgets/controls",
            "_model_module_version": "1.5.0",
            "value": 10,
            "_view_count": null,
            "disabled": false,
            "_view_module_version": "1.5.0",
            "min": -10,
            "continuous_update": true,
            "readout_format": "d",
            "description_tooltip": null,
            "readout": true,
            "_model_module": "@jupyter-widgets/controls",
            "layout": "IPY_MODEL_9b3b2c186cfa46379f5fd9675983ea55"
          }
        },
        "f7d2ade29feb46a5a06d3eabd481e40b": {
          "model_module": "@jupyter-widgets/output",
          "model_name": "OutputModel",
          "model_module_version": "1.0.0",
          "state": {
            "_view_name": "OutputView",
            "msg_id": "",
            "_dom_classes": [],
            "_model_name": "OutputModel",
            "outputs": [
              {
                "output_type": "display_data",
                "data": {
                  "text/plain": "10"
                },
                "metadata": {}
              }
            ],
            "_view_module": "@jupyter-widgets/output",
            "_model_module_version": "1.0.0",
            "_view_count": null,
            "_view_module_version": "1.0.0",
            "layout": "IPY_MODEL_ab074a13442c4164be955d8e1f857c04",
            "_model_module": "@jupyter-widgets/output"
          }
        },
        "70635e5142e145b7a245d72593e6064f": {
          "model_module": "@jupyter-widgets/controls",
          "model_name": "SliderStyleModel",
          "model_module_version": "1.5.0",
          "state": {
            "_view_name": "StyleView",
            "handle_color": null,
            "_model_name": "SliderStyleModel",
            "description_width": "",
            "_view_module": "@jupyter-widgets/base",
            "_model_module_version": "1.5.0",
            "_view_count": null,
            "_view_module_version": "1.2.0",
            "_model_module": "@jupyter-widgets/controls"
          }
        },
        "9b3b2c186cfa46379f5fd9675983ea55": {
          "model_module": "@jupyter-widgets/base",
          "model_name": "LayoutModel",
          "model_module_version": "1.2.0",
          "state": {
            "_view_name": "LayoutView",
            "grid_template_rows": null,
            "right": null,
            "justify_content": null,
            "_view_module": "@jupyter-widgets/base",
            "overflow": null,
            "_model_module_version": "1.2.0",
            "_view_count": null,
            "flex_flow": null,
            "width": null,
            "min_width": null,
            "border": null,
            "align_items": null,
            "bottom": null,
            "_model_module": "@jupyter-widgets/base",
            "top": null,
            "grid_column": null,
            "overflow_y": null,
            "overflow_x": null,
            "grid_auto_flow": null,
            "grid_area": null,
            "grid_template_columns": null,
            "flex": null,
            "_model_name": "LayoutModel",
            "justify_items": null,
            "grid_row": null,
            "max_height": null,
            "align_content": null,
            "visibility": null,
            "align_self": null,
            "height": null,
            "min_height": null,
            "padding": null,
            "grid_auto_rows": null,
            "grid_gap": null,
            "max_width": null,
            "order": null,
            "_view_module_version": "1.2.0",
            "grid_template_areas": null,
            "object_position": null,
            "object_fit": null,
            "grid_auto_columns": null,
            "margin": null,
            "display": null,
            "left": null
          }
        },
        "ab074a13442c4164be955d8e1f857c04": {
          "model_module": "@jupyter-widgets/base",
          "model_name": "LayoutModel",
          "model_module_version": "1.2.0",
          "state": {
            "_view_name": "LayoutView",
            "grid_template_rows": null,
            "right": null,
            "justify_content": null,
            "_view_module": "@jupyter-widgets/base",
            "overflow": null,
            "_model_module_version": "1.2.0",
            "_view_count": null,
            "flex_flow": null,
            "width": null,
            "min_width": null,
            "border": null,
            "align_items": null,
            "bottom": null,
            "_model_module": "@jupyter-widgets/base",
            "top": null,
            "grid_column": null,
            "overflow_y": null,
            "overflow_x": null,
            "grid_auto_flow": null,
            "grid_area": null,
            "grid_template_columns": null,
            "flex": null,
            "_model_name": "LayoutModel",
            "justify_items": null,
            "grid_row": null,
            "max_height": null,
            "align_content": null,
            "visibility": null,
            "align_self": null,
            "height": null,
            "min_height": null,
            "padding": null,
            "grid_auto_rows": null,
            "grid_gap": null,
            "max_width": null,
            "order": null,
            "_view_module_version": "1.2.0",
            "grid_template_areas": null,
            "object_position": null,
            "object_fit": null,
            "grid_auto_columns": null,
            "margin": null,
            "display": null,
            "left": null
          }
        },
        "c149f661e21e4f9394dff25bb4e381a0": {
          "model_module": "@jupyter-widgets/controls",
          "model_name": "VBoxModel",
          "model_module_version": "1.5.0",
          "state": {
            "_view_name": "VBoxView",
            "_dom_classes": [
              "widget-interact"
            ],
            "_model_name": "VBoxModel",
            "_view_module": "@jupyter-widgets/controls",
            "_model_module_version": "1.5.0",
            "_view_count": null,
            "_view_module_version": "1.5.0",
            "box_style": "",
            "layout": "IPY_MODEL_a4f7d304103e4958a0c41aa88f0a22b8",
            "_model_module": "@jupyter-widgets/controls",
            "children": [
              "IPY_MODEL_0855e96f83704ec8b58aed9f2c960c36",
              "IPY_MODEL_428223c6246e4a3294dee814524f4af8"
            ]
          }
        },
        "a4f7d304103e4958a0c41aa88f0a22b8": {
          "model_module": "@jupyter-widgets/base",
          "model_name": "LayoutModel",
          "model_module_version": "1.2.0",
          "state": {
            "_view_name": "LayoutView",
            "grid_template_rows": null,
            "right": null,
            "justify_content": null,
            "_view_module": "@jupyter-widgets/base",
            "overflow": null,
            "_model_module_version": "1.2.0",
            "_view_count": null,
            "flex_flow": null,
            "width": null,
            "min_width": null,
            "border": null,
            "align_items": null,
            "bottom": null,
            "_model_module": "@jupyter-widgets/base",
            "top": null,
            "grid_column": null,
            "overflow_y": null,
            "overflow_x": null,
            "grid_auto_flow": null,
            "grid_area": null,
            "grid_template_columns": null,
            "flex": null,
            "_model_name": "LayoutModel",
            "justify_items": null,
            "grid_row": null,
            "max_height": null,
            "align_content": null,
            "visibility": null,
            "align_self": null,
            "height": null,
            "min_height": null,
            "padding": null,
            "grid_auto_rows": null,
            "grid_gap": null,
            "max_width": null,
            "order": null,
            "_view_module_version": "1.2.0",
            "grid_template_areas": null,
            "object_position": null,
            "object_fit": null,
            "grid_auto_columns": null,
            "margin": null,
            "display": null,
            "left": null
          }
        },
        "0855e96f83704ec8b58aed9f2c960c36": {
          "model_module": "@jupyter-widgets/controls",
          "model_name": "DropdownModel",
          "model_module_version": "1.5.0",
          "state": {
            "_options_labels": [
              "0",
              "1",
              "2",
              "3"
            ],
            "_view_name": "DropdownView",
            "style": "IPY_MODEL_a92cd51962c041b2bfee9a29e40ba40a",
            "_dom_classes": [],
            "description": "x",
            "_model_name": "DropdownModel",
            "index": 0,
            "_view_module": "@jupyter-widgets/controls",
            "_model_module_version": "1.5.0",
            "_view_count": null,
            "disabled": false,
            "_view_module_version": "1.5.0",
            "description_tooltip": null,
            "_model_module": "@jupyter-widgets/controls",
            "layout": "IPY_MODEL_304a28d620704d289ce4e0279f5c1473"
          }
        },
        "428223c6246e4a3294dee814524f4af8": {
          "model_module": "@jupyter-widgets/output",
          "model_name": "OutputModel",
          "model_module_version": "1.0.0",
          "state": {
            "_view_name": "OutputView",
            "msg_id": "",
            "_dom_classes": [],
            "_model_name": "OutputModel",
            "outputs": [
              {
                "output_type": "stream",
                "name": "stdout",
                "text": [
                  "Widget says: 0\n"
                ]
              }
            ],
            "_view_module": "@jupyter-widgets/output",
            "_model_module_version": "1.0.0",
            "_view_count": null,
            "_view_module_version": "1.0.0",
            "layout": "IPY_MODEL_8465dd6bb64d4185adf3accf72332b09",
            "_model_module": "@jupyter-widgets/output"
          }
        },
        "a92cd51962c041b2bfee9a29e40ba40a": {
          "model_module": "@jupyter-widgets/controls",
          "model_name": "DescriptionStyleModel",
          "model_module_version": "1.5.0",
          "state": {
            "_view_name": "StyleView",
            "_model_name": "DescriptionStyleModel",
            "description_width": "",
            "_view_module": "@jupyter-widgets/base",
            "_model_module_version": "1.5.0",
            "_view_count": null,
            "_view_module_version": "1.2.0",
            "_model_module": "@jupyter-widgets/controls"
          }
        },
        "304a28d620704d289ce4e0279f5c1473": {
          "model_module": "@jupyter-widgets/base",
          "model_name": "LayoutModel",
          "model_module_version": "1.2.0",
          "state": {
            "_view_name": "LayoutView",
            "grid_template_rows": null,
            "right": null,
            "justify_content": null,
            "_view_module": "@jupyter-widgets/base",
            "overflow": null,
            "_model_module_version": "1.2.0",
            "_view_count": null,
            "flex_flow": null,
            "width": null,
            "min_width": null,
            "border": null,
            "align_items": null,
            "bottom": null,
            "_model_module": "@jupyter-widgets/base",
            "top": null,
            "grid_column": null,
            "overflow_y": null,
            "overflow_x": null,
            "grid_auto_flow": null,
            "grid_area": null,
            "grid_template_columns": null,
            "flex": null,
            "_model_name": "LayoutModel",
            "justify_items": null,
            "grid_row": null,
            "max_height": null,
            "align_content": null,
            "visibility": null,
            "align_self": null,
            "height": null,
            "min_height": null,
            "padding": null,
            "grid_auto_rows": null,
            "grid_gap": null,
            "max_width": null,
            "order": null,
            "_view_module_version": "1.2.0",
            "grid_template_areas": null,
            "object_position": null,
            "object_fit": null,
            "grid_auto_columns": null,
            "margin": null,
            "display": null,
            "left": null
          }
        },
        "8465dd6bb64d4185adf3accf72332b09": {
          "model_module": "@jupyter-widgets/base",
          "model_name": "LayoutModel",
          "model_module_version": "1.2.0",
          "state": {
            "_view_name": "LayoutView",
            "grid_template_rows": null,
            "right": null,
            "justify_content": null,
            "_view_module": "@jupyter-widgets/base",
            "overflow": null,
            "_model_module_version": "1.2.0",
            "_view_count": null,
            "flex_flow": null,
            "width": null,
            "min_width": null,
            "border": null,
            "align_items": null,
            "bottom": null,
            "_model_module": "@jupyter-widgets/base",
            "top": null,
            "grid_column": null,
            "overflow_y": null,
            "overflow_x": null,
            "grid_auto_flow": null,
            "grid_area": null,
            "grid_template_columns": null,
            "flex": null,
            "_model_name": "LayoutModel",
            "justify_items": null,
            "grid_row": null,
            "max_height": null,
            "align_content": null,
            "visibility": null,
            "align_self": null,
            "height": null,
            "min_height": null,
            "padding": null,
            "grid_auto_rows": null,
            "grid_gap": null,
            "max_width": null,
            "order": null,
            "_view_module_version": "1.2.0",
            "grid_template_areas": null,
            "object_position": null,
            "object_fit": null,
            "grid_auto_columns": null,
            "margin": null,
            "display": null,
            "left": null
          }
        },
        "45ccd843437743d993cdb8423826558b": {
          "model_module": "@jupyter-widgets/controls",
          "model_name": "VBoxModel",
          "model_module_version": "1.5.0",
          "state": {
            "_view_name": "VBoxView",
            "_dom_classes": [
              "widget-interact"
            ],
            "_model_name": "VBoxModel",
            "_view_module": "@jupyter-widgets/controls",
            "_model_module_version": "1.5.0",
            "_view_count": null,
            "_view_module_version": "1.5.0",
            "box_style": "",
            "layout": "IPY_MODEL_1f3285721f8d4133a60725b171b0443b",
            "_model_module": "@jupyter-widgets/controls",
            "children": [
              "IPY_MODEL_bc7f319783084efe9a94573e500123b1",
              "IPY_MODEL_ebef80c8b0a6439e812e7b74e3ee3404"
            ]
          }
        },
        "1f3285721f8d4133a60725b171b0443b": {
          "model_module": "@jupyter-widgets/base",
          "model_name": "LayoutModel",
          "model_module_version": "1.2.0",
          "state": {
            "_view_name": "LayoutView",
            "grid_template_rows": null,
            "right": null,
            "justify_content": null,
            "_view_module": "@jupyter-widgets/base",
            "overflow": null,
            "_model_module_version": "1.2.0",
            "_view_count": null,
            "flex_flow": null,
            "width": null,
            "min_width": null,
            "border": null,
            "align_items": null,
            "bottom": null,
            "_model_module": "@jupyter-widgets/base",
            "top": null,
            "grid_column": null,
            "overflow_y": null,
            "overflow_x": null,
            "grid_auto_flow": null,
            "grid_area": null,
            "grid_template_columns": null,
            "flex": null,
            "_model_name": "LayoutModel",
            "justify_items": null,
            "grid_row": null,
            "max_height": null,
            "align_content": null,
            "visibility": null,
            "align_self": null,
            "height": null,
            "min_height": null,
            "padding": null,
            "grid_auto_rows": null,
            "grid_gap": null,
            "max_width": null,
            "order": null,
            "_view_module_version": "1.2.0",
            "grid_template_areas": null,
            "object_position": null,
            "object_fit": null,
            "grid_auto_columns": null,
            "margin": null,
            "display": null,
            "left": null
          }
        },
        "bc7f319783084efe9a94573e500123b1": {
          "model_module": "@jupyter-widgets/controls",
          "model_name": "IntSliderModel",
          "model_module_version": "1.5.0",
          "state": {
            "_view_name": "IntSliderView",
            "style": "IPY_MODEL_c1c4404554984a1099d29a83ce314964",
            "_dom_classes": [],
            "description": "x",
            "step": 1,
            "_model_name": "IntSliderModel",
            "orientation": "horizontal",
            "max": 10,
            "_view_module": "@jupyter-widgets/controls",
            "_model_module_version": "1.5.0",
            "value": 5,
            "_view_count": null,
            "disabled": false,
            "_view_module_version": "1.5.0",
            "min": 0,
            "continuous_update": true,
            "readout_format": "d",
            "description_tooltip": null,
            "readout": true,
            "_model_module": "@jupyter-widgets/controls",
            "layout": "IPY_MODEL_b06ba35b4cc1489aa85d3963e761beae"
          }
        },
        "ebef80c8b0a6439e812e7b74e3ee3404": {
          "model_module": "@jupyter-widgets/output",
          "model_name": "OutputModel",
          "model_module_version": "1.0.0",
          "state": {
            "_view_name": "OutputView",
            "msg_id": "",
            "_dom_classes": [],
            "_model_name": "OutputModel",
            "outputs": [
              {
                "output_type": "stream",
                "name": "stdout",
                "text": [
                  "Widget says: 5\n"
                ]
              }
            ],
            "_view_module": "@jupyter-widgets/output",
            "_model_module_version": "1.0.0",
            "_view_count": null,
            "_view_module_version": "1.0.0",
            "layout": "IPY_MODEL_956d085fdc604644bef2b3c2188605e6",
            "_model_module": "@jupyter-widgets/output"
          }
        },
        "c1c4404554984a1099d29a83ce314964": {
          "model_module": "@jupyter-widgets/controls",
          "model_name": "SliderStyleModel",
          "model_module_version": "1.5.0",
          "state": {
            "_view_name": "StyleView",
            "handle_color": null,
            "_model_name": "SliderStyleModel",
            "description_width": "",
            "_view_module": "@jupyter-widgets/base",
            "_model_module_version": "1.5.0",
            "_view_count": null,
            "_view_module_version": "1.2.0",
            "_model_module": "@jupyter-widgets/controls"
          }
        },
        "b06ba35b4cc1489aa85d3963e761beae": {
          "model_module": "@jupyter-widgets/base",
          "model_name": "LayoutModel",
          "model_module_version": "1.2.0",
          "state": {
            "_view_name": "LayoutView",
            "grid_template_rows": null,
            "right": null,
            "justify_content": null,
            "_view_module": "@jupyter-widgets/base",
            "overflow": null,
            "_model_module_version": "1.2.0",
            "_view_count": null,
            "flex_flow": null,
            "width": null,
            "min_width": null,
            "border": null,
            "align_items": null,
            "bottom": null,
            "_model_module": "@jupyter-widgets/base",
            "top": null,
            "grid_column": null,
            "overflow_y": null,
            "overflow_x": null,
            "grid_auto_flow": null,
            "grid_area": null,
            "grid_template_columns": null,
            "flex": null,
            "_model_name": "LayoutModel",
            "justify_items": null,
            "grid_row": null,
            "max_height": null,
            "align_content": null,
            "visibility": null,
            "align_self": null,
            "height": null,
            "min_height": null,
            "padding": null,
            "grid_auto_rows": null,
            "grid_gap": null,
            "max_width": null,
            "order": null,
            "_view_module_version": "1.2.0",
            "grid_template_areas": null,
            "object_position": null,
            "object_fit": null,
            "grid_auto_columns": null,
            "margin": null,
            "display": null,
            "left": null
          }
        },
        "956d085fdc604644bef2b3c2188605e6": {
          "model_module": "@jupyter-widgets/base",
          "model_name": "LayoutModel",
          "model_module_version": "1.2.0",
          "state": {
            "_view_name": "LayoutView",
            "grid_template_rows": null,
            "right": null,
            "justify_content": null,
            "_view_module": "@jupyter-widgets/base",
            "overflow": null,
            "_model_module_version": "1.2.0",
            "_view_count": null,
            "flex_flow": null,
            "width": null,
            "min_width": null,
            "border": null,
            "align_items": null,
            "bottom": null,
            "_model_module": "@jupyter-widgets/base",
            "top": null,
            "grid_column": null,
            "overflow_y": null,
            "overflow_x": null,
            "grid_auto_flow": null,
            "grid_area": null,
            "grid_template_columns": null,
            "flex": null,
            "_model_name": "LayoutModel",
            "justify_items": null,
            "grid_row": null,
            "max_height": null,
            "align_content": null,
            "visibility": null,
            "align_self": null,
            "height": null,
            "min_height": null,
            "padding": null,
            "grid_auto_rows": null,
            "grid_gap": null,
            "max_width": null,
            "order": null,
            "_view_module_version": "1.2.0",
            "grid_template_areas": null,
            "object_position": null,
            "object_fit": null,
            "grid_auto_columns": null,
            "margin": null,
            "display": null,
            "left": null
          }
        },
        "3cfee3f6b7ff4cdf8464bac2390b93f5": {
          "model_module": "@jupyter-widgets/controls",
          "model_name": "VBoxModel",
          "model_module_version": "1.5.0",
          "state": {
            "_view_name": "VBoxView",
            "_dom_classes": [
              "widget-interact"
            ],
            "_model_name": "VBoxModel",
            "_view_module": "@jupyter-widgets/controls",
            "_model_module_version": "1.5.0",
            "_view_count": null,
            "_view_module_version": "1.5.0",
            "box_style": "",
            "layout": "IPY_MODEL_126290d6f59440f7978d4181a2d4ba6f",
            "_model_module": "@jupyter-widgets/controls",
            "children": [
              "IPY_MODEL_f91e59b6b7404aa18987b2721ea43ec9",
              "IPY_MODEL_5df7117edb3443ad987d45c5cb4aeb28"
            ]
          }
        },
        "126290d6f59440f7978d4181a2d4ba6f": {
          "model_module": "@jupyter-widgets/base",
          "model_name": "LayoutModel",
          "model_module_version": "1.2.0",
          "state": {
            "_view_name": "LayoutView",
            "grid_template_rows": null,
            "right": null,
            "justify_content": null,
            "_view_module": "@jupyter-widgets/base",
            "overflow": null,
            "_model_module_version": "1.2.0",
            "_view_count": null,
            "flex_flow": null,
            "width": null,
            "min_width": null,
            "border": null,
            "align_items": null,
            "bottom": null,
            "_model_module": "@jupyter-widgets/base",
            "top": null,
            "grid_column": null,
            "overflow_y": null,
            "overflow_x": null,
            "grid_auto_flow": null,
            "grid_area": null,
            "grid_template_columns": null,
            "flex": null,
            "_model_name": "LayoutModel",
            "justify_items": null,
            "grid_row": null,
            "max_height": null,
            "align_content": null,
            "visibility": null,
            "align_self": null,
            "height": null,
            "min_height": null,
            "padding": null,
            "grid_auto_rows": null,
            "grid_gap": null,
            "max_width": null,
            "order": null,
            "_view_module_version": "1.2.0",
            "grid_template_areas": null,
            "object_position": null,
            "object_fit": null,
            "grid_auto_columns": null,
            "margin": null,
            "display": null,
            "left": null
          }
        },
        "f91e59b6b7404aa18987b2721ea43ec9": {
          "model_module": "@jupyter-widgets/controls",
          "model_name": "FloatSliderModel",
          "model_module_version": "1.5.0",
          "state": {
            "_view_name": "FloatSliderView",
            "style": "IPY_MODEL_927a1ecef4f247019ada504f7e56caf1",
            "_dom_classes": [],
            "description": "x",
            "step": 0.5,
            "_model_name": "FloatSliderModel",
            "orientation": "horizontal",
            "max": 10,
            "_view_module": "@jupyter-widgets/controls",
            "_model_module_version": "1.5.0",
            "value": 5,
            "_view_count": null,
            "disabled": false,
            "_view_module_version": "1.5.0",
            "min": 0,
            "continuous_update": true,
            "readout_format": ".2f",
            "description_tooltip": null,
            "readout": true,
            "_model_module": "@jupyter-widgets/controls",
            "layout": "IPY_MODEL_2f537b7c77fe43159112d0b2344a68f5"
          }
        },
        "5df7117edb3443ad987d45c5cb4aeb28": {
          "model_module": "@jupyter-widgets/output",
          "model_name": "OutputModel",
          "model_module_version": "1.0.0",
          "state": {
            "_view_name": "OutputView",
            "msg_id": "",
            "_dom_classes": [],
            "_model_name": "OutputModel",
            "outputs": [
              {
                "output_type": "stream",
                "name": "stdout",
                "text": [
                  "Widget says: 5.0\n"
                ]
              }
            ],
            "_view_module": "@jupyter-widgets/output",
            "_model_module_version": "1.0.0",
            "_view_count": null,
            "_view_module_version": "1.0.0",
            "layout": "IPY_MODEL_b76a755824114858b41ddcf5c0f249f4",
            "_model_module": "@jupyter-widgets/output"
          }
        },
        "927a1ecef4f247019ada504f7e56caf1": {
          "model_module": "@jupyter-widgets/controls",
          "model_name": "SliderStyleModel",
          "model_module_version": "1.5.0",
          "state": {
            "_view_name": "StyleView",
            "handle_color": null,
            "_model_name": "SliderStyleModel",
            "description_width": "",
            "_view_module": "@jupyter-widgets/base",
            "_model_module_version": "1.5.0",
            "_view_count": null,
            "_view_module_version": "1.2.0",
            "_model_module": "@jupyter-widgets/controls"
          }
        },
        "2f537b7c77fe43159112d0b2344a68f5": {
          "model_module": "@jupyter-widgets/base",
          "model_name": "LayoutModel",
          "model_module_version": "1.2.0",
          "state": {
            "_view_name": "LayoutView",
            "grid_template_rows": null,
            "right": null,
            "justify_content": null,
            "_view_module": "@jupyter-widgets/base",
            "overflow": null,
            "_model_module_version": "1.2.0",
            "_view_count": null,
            "flex_flow": null,
            "width": null,
            "min_width": null,
            "border": null,
            "align_items": null,
            "bottom": null,
            "_model_module": "@jupyter-widgets/base",
            "top": null,
            "grid_column": null,
            "overflow_y": null,
            "overflow_x": null,
            "grid_auto_flow": null,
            "grid_area": null,
            "grid_template_columns": null,
            "flex": null,
            "_model_name": "LayoutModel",
            "justify_items": null,
            "grid_row": null,
            "max_height": null,
            "align_content": null,
            "visibility": null,
            "align_self": null,
            "height": null,
            "min_height": null,
            "padding": null,
            "grid_auto_rows": null,
            "grid_gap": null,
            "max_width": null,
            "order": null,
            "_view_module_version": "1.2.0",
            "grid_template_areas": null,
            "object_position": null,
            "object_fit": null,
            "grid_auto_columns": null,
            "margin": null,
            "display": null,
            "left": null
          }
        },
        "b76a755824114858b41ddcf5c0f249f4": {
          "model_module": "@jupyter-widgets/base",
          "model_name": "LayoutModel",
          "model_module_version": "1.2.0",
          "state": {
            "_view_name": "LayoutView",
            "grid_template_rows": null,
            "right": null,
            "justify_content": null,
            "_view_module": "@jupyter-widgets/base",
            "overflow": null,
            "_model_module_version": "1.2.0",
            "_view_count": null,
            "flex_flow": null,
            "width": null,
            "min_width": null,
            "border": null,
            "align_items": null,
            "bottom": null,
            "_model_module": "@jupyter-widgets/base",
            "top": null,
            "grid_column": null,
            "overflow_y": null,
            "overflow_x": null,
            "grid_auto_flow": null,
            "grid_area": null,
            "grid_template_columns": null,
            "flex": null,
            "_model_name": "LayoutModel",
            "justify_items": null,
            "grid_row": null,
            "max_height": null,
            "align_content": null,
            "visibility": null,
            "align_self": null,
            "height": null,
            "min_height": null,
            "padding": null,
            "grid_auto_rows": null,
            "grid_gap": null,
            "max_width": null,
            "order": null,
            "_view_module_version": "1.2.0",
            "grid_template_areas": null,
            "object_position": null,
            "object_fit": null,
            "grid_auto_columns": null,
            "margin": null,
            "display": null,
            "left": null
          }
        },
        "17038df662e64ba294820e6049eaa53e": {
          "model_module": "@jupyter-widgets/controls",
          "model_name": "VBoxModel",
          "model_module_version": "1.5.0",
          "state": {
            "_view_name": "VBoxView",
            "_dom_classes": [
              "widget-interact"
            ],
            "_model_name": "VBoxModel",
            "_view_module": "@jupyter-widgets/controls",
            "_model_module_version": "1.5.0",
            "_view_count": null,
            "_view_module_version": "1.5.0",
            "box_style": "",
            "layout": "IPY_MODEL_6aa0cd70ac6a4ae4b012641f321e09a9",
            "_model_module": "@jupyter-widgets/controls",
            "children": [
              "IPY_MODEL_2bdd5452f56242498ee42489f3157feb",
              "IPY_MODEL_30de50fd1fe24884b67131e6643f9de3"
            ]
          }
        },
        "6aa0cd70ac6a4ae4b012641f321e09a9": {
          "model_module": "@jupyter-widgets/base",
          "model_name": "LayoutModel",
          "model_module_version": "1.2.0",
          "state": {
            "_view_name": "LayoutView",
            "grid_template_rows": null,
            "right": null,
            "justify_content": null,
            "_view_module": "@jupyter-widgets/base",
            "overflow": null,
            "_model_module_version": "1.2.0",
            "_view_count": null,
            "flex_flow": null,
            "width": null,
            "min_width": null,
            "border": null,
            "align_items": null,
            "bottom": null,
            "_model_module": "@jupyter-widgets/base",
            "top": null,
            "grid_column": null,
            "overflow_y": null,
            "overflow_x": null,
            "grid_auto_flow": null,
            "grid_area": null,
            "grid_template_columns": null,
            "flex": null,
            "_model_name": "LayoutModel",
            "justify_items": null,
            "grid_row": null,
            "max_height": null,
            "align_content": null,
            "visibility": null,
            "align_self": null,
            "height": null,
            "min_height": null,
            "padding": null,
            "grid_auto_rows": null,
            "grid_gap": null,
            "max_width": null,
            "order": null,
            "_view_module_version": "1.2.0",
            "grid_template_areas": null,
            "object_position": null,
            "object_fit": null,
            "grid_auto_columns": null,
            "margin": null,
            "display": null,
            "left": null
          }
        },
        "2bdd5452f56242498ee42489f3157feb": {
          "model_module": "@jupyter-widgets/controls",
          "model_name": "CheckboxModel",
          "model_module_version": "1.5.0",
          "state": {
            "_view_name": "CheckboxView",
            "style": "IPY_MODEL_4324f4e037664afd9a3e9c45f06c61c4",
            "_dom_classes": [],
            "description": "x",
            "_model_name": "CheckboxModel",
            "_view_module": "@jupyter-widgets/controls",
            "_model_module_version": "1.5.0",
            "value": true,
            "_view_count": null,
            "disabled": false,
            "_view_module_version": "1.5.0",
            "indent": true,
            "description_tooltip": null,
            "_model_module": "@jupyter-widgets/controls",
            "layout": "IPY_MODEL_fc2f5e67a1c24875b1b97dcf1a777d62"
          }
        },
        "30de50fd1fe24884b67131e6643f9de3": {
          "model_module": "@jupyter-widgets/output",
          "model_name": "OutputModel",
          "model_module_version": "1.0.0",
          "state": {
            "_view_name": "OutputView",
            "msg_id": "",
            "_dom_classes": [],
            "_model_name": "OutputModel",
            "outputs": [
              {
                "output_type": "stream",
                "name": "stdout",
                "text": [
                  "Widget says: True\n"
                ]
              }
            ],
            "_view_module": "@jupyter-widgets/output",
            "_model_module_version": "1.0.0",
            "_view_count": null,
            "_view_module_version": "1.0.0",
            "layout": "IPY_MODEL_6e67d32947bf452a88b2440672ea09a5",
            "_model_module": "@jupyter-widgets/output"
          }
        },
        "4324f4e037664afd9a3e9c45f06c61c4": {
          "model_module": "@jupyter-widgets/controls",
          "model_name": "DescriptionStyleModel",
          "model_module_version": "1.5.0",
          "state": {
            "_view_name": "StyleView",
            "_model_name": "DescriptionStyleModel",
            "description_width": "",
            "_view_module": "@jupyter-widgets/base",
            "_model_module_version": "1.5.0",
            "_view_count": null,
            "_view_module_version": "1.2.0",
            "_model_module": "@jupyter-widgets/controls"
          }
        },
        "fc2f5e67a1c24875b1b97dcf1a777d62": {
          "model_module": "@jupyter-widgets/base",
          "model_name": "LayoutModel",
          "model_module_version": "1.2.0",
          "state": {
            "_view_name": "LayoutView",
            "grid_template_rows": null,
            "right": null,
            "justify_content": null,
            "_view_module": "@jupyter-widgets/base",
            "overflow": null,
            "_model_module_version": "1.2.0",
            "_view_count": null,
            "flex_flow": null,
            "width": null,
            "min_width": null,
            "border": null,
            "align_items": null,
            "bottom": null,
            "_model_module": "@jupyter-widgets/base",
            "top": null,
            "grid_column": null,
            "overflow_y": null,
            "overflow_x": null,
            "grid_auto_flow": null,
            "grid_area": null,
            "grid_template_columns": null,
            "flex": null,
            "_model_name": "LayoutModel",
            "justify_items": null,
            "grid_row": null,
            "max_height": null,
            "align_content": null,
            "visibility": null,
            "align_self": null,
            "height": null,
            "min_height": null,
            "padding": null,
            "grid_auto_rows": null,
            "grid_gap": null,
            "max_width": null,
            "order": null,
            "_view_module_version": "1.2.0",
            "grid_template_areas": null,
            "object_position": null,
            "object_fit": null,
            "grid_auto_columns": null,
            "margin": null,
            "display": null,
            "left": null
          }
        },
        "6e67d32947bf452a88b2440672ea09a5": {
          "model_module": "@jupyter-widgets/base",
          "model_name": "LayoutModel",
          "model_module_version": "1.2.0",
          "state": {
            "_view_name": "LayoutView",
            "grid_template_rows": null,
            "right": null,
            "justify_content": null,
            "_view_module": "@jupyter-widgets/base",
            "overflow": null,
            "_model_module_version": "1.2.0",
            "_view_count": null,
            "flex_flow": null,
            "width": null,
            "min_width": null,
            "border": null,
            "align_items": null,
            "bottom": null,
            "_model_module": "@jupyter-widgets/base",
            "top": null,
            "grid_column": null,
            "overflow_y": null,
            "overflow_x": null,
            "grid_auto_flow": null,
            "grid_area": null,
            "grid_template_columns": null,
            "flex": null,
            "_model_name": "LayoutModel",
            "justify_items": null,
            "grid_row": null,
            "max_height": null,
            "align_content": null,
            "visibility": null,
            "align_self": null,
            "height": null,
            "min_height": null,
            "padding": null,
            "grid_auto_rows": null,
            "grid_gap": null,
            "max_width": null,
            "order": null,
            "_view_module_version": "1.2.0",
            "grid_template_areas": null,
            "object_position": null,
            "object_fit": null,
            "grid_auto_columns": null,
            "margin": null,
            "display": null,
            "left": null
          }
        },
        "93a9e6f210834348b62f5453b9813f1c": {
          "model_module": "@jupyter-widgets/controls",
          "model_name": "VBoxModel",
          "model_module_version": "1.5.0",
          "state": {
            "_view_name": "VBoxView",
            "_dom_classes": [
              "widget-interact"
            ],
            "_model_name": "VBoxModel",
            "_view_module": "@jupyter-widgets/controls",
            "_model_module_version": "1.5.0",
            "_view_count": null,
            "_view_module_version": "1.5.0",
            "box_style": "",
            "layout": "IPY_MODEL_9e46a52fd28f4112bbaeb5c2ab7d2e2c",
            "_model_module": "@jupyter-widgets/controls",
            "children": [
              "IPY_MODEL_ed0c02d5fdd144a6936b9963ef3fd5bf",
              "IPY_MODEL_320bbe08849c4fbfa9b8b24ef538d317"
            ]
          }
        },
        "9e46a52fd28f4112bbaeb5c2ab7d2e2c": {
          "model_module": "@jupyter-widgets/base",
          "model_name": "LayoutModel",
          "model_module_version": "1.2.0",
          "state": {
            "_view_name": "LayoutView",
            "grid_template_rows": null,
            "right": null,
            "justify_content": null,
            "_view_module": "@jupyter-widgets/base",
            "overflow": null,
            "_model_module_version": "1.2.0",
            "_view_count": null,
            "flex_flow": null,
            "width": null,
            "min_width": null,
            "border": null,
            "align_items": null,
            "bottom": null,
            "_model_module": "@jupyter-widgets/base",
            "top": null,
            "grid_column": null,
            "overflow_y": null,
            "overflow_x": null,
            "grid_auto_flow": null,
            "grid_area": null,
            "grid_template_columns": null,
            "flex": null,
            "_model_name": "LayoutModel",
            "justify_items": null,
            "grid_row": null,
            "max_height": null,
            "align_content": null,
            "visibility": null,
            "align_self": null,
            "height": null,
            "min_height": null,
            "padding": null,
            "grid_auto_rows": null,
            "grid_gap": null,
            "max_width": null,
            "order": null,
            "_view_module_version": "1.2.0",
            "grid_template_areas": null,
            "object_position": null,
            "object_fit": null,
            "grid_auto_columns": null,
            "margin": null,
            "display": null,
            "left": null
          }
        },
        "ed0c02d5fdd144a6936b9963ef3fd5bf": {
          "model_module": "@jupyter-widgets/controls",
          "model_name": "FloatSliderModel",
          "model_module_version": "1.5.0",
          "state": {
            "_view_name": "FloatSliderView",
            "style": "IPY_MODEL_670afa0680aa42af85812cbe47a6e27d",
            "_dom_classes": [],
            "description": "w",
            "step": 0.1,
            "_model_name": "FloatSliderModel",
            "orientation": "horizontal",
            "max": 3,
            "_view_module": "@jupyter-widgets/controls",
            "_model_module_version": "1.5.0",
            "value": 1,
            "_view_count": null,
            "disabled": false,
            "_view_module_version": "1.5.0",
            "min": -1,
            "continuous_update": true,
            "readout_format": ".2f",
            "description_tooltip": null,
            "readout": true,
            "_model_module": "@jupyter-widgets/controls",
            "layout": "IPY_MODEL_1bc952032674483f976a64f65c3669e6"
          }
        },
        "320bbe08849c4fbfa9b8b24ef538d317": {
          "model_module": "@jupyter-widgets/output",
          "model_name": "OutputModel",
          "model_module_version": "1.0.0",
          "state": {
            "_view_name": "OutputView",
            "msg_id": "",
            "_dom_classes": [],
            "_model_name": "OutputModel",
            "outputs": [
              {
                "output_type": "display_data",
                "data": {
                  "image/png": "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\n",
                  "text/plain": "<Figure size 432x288 with 1 Axes>"
                },
                "metadata": {
                  "needs_background": "light"
                }
              }
            ],
            "_view_module": "@jupyter-widgets/output",
            "_model_module_version": "1.0.0",
            "_view_count": null,
            "_view_module_version": "1.0.0",
            "layout": "IPY_MODEL_9801a52e9e62483cbec53811ab5ba2b1",
            "_model_module": "@jupyter-widgets/output"
          }
        },
        "670afa0680aa42af85812cbe47a6e27d": {
          "model_module": "@jupyter-widgets/controls",
          "model_name": "SliderStyleModel",
          "model_module_version": "1.5.0",
          "state": {
            "_view_name": "StyleView",
            "handle_color": null,
            "_model_name": "SliderStyleModel",
            "description_width": "",
            "_view_module": "@jupyter-widgets/base",
            "_model_module_version": "1.5.0",
            "_view_count": null,
            "_view_module_version": "1.2.0",
            "_model_module": "@jupyter-widgets/controls"
          }
        },
        "1bc952032674483f976a64f65c3669e6": {
          "model_module": "@jupyter-widgets/base",
          "model_name": "LayoutModel",
          "model_module_version": "1.2.0",
          "state": {
            "_view_name": "LayoutView",
            "grid_template_rows": null,
            "right": null,
            "justify_content": null,
            "_view_module": "@jupyter-widgets/base",
            "overflow": null,
            "_model_module_version": "1.2.0",
            "_view_count": null,
            "flex_flow": null,
            "width": null,
            "min_width": null,
            "border": null,
            "align_items": null,
            "bottom": null,
            "_model_module": "@jupyter-widgets/base",
            "top": null,
            "grid_column": null,
            "overflow_y": null,
            "overflow_x": null,
            "grid_auto_flow": null,
            "grid_area": null,
            "grid_template_columns": null,
            "flex": null,
            "_model_name": "LayoutModel",
            "justify_items": null,
            "grid_row": null,
            "max_height": null,
            "align_content": null,
            "visibility": null,
            "align_self": null,
            "height": null,
            "min_height": null,
            "padding": null,
            "grid_auto_rows": null,
            "grid_gap": null,
            "max_width": null,
            "order": null,
            "_view_module_version": "1.2.0",
            "grid_template_areas": null,
            "object_position": null,
            "object_fit": null,
            "grid_auto_columns": null,
            "margin": null,
            "display": null,
            "left": null
          }
        },
        "9801a52e9e62483cbec53811ab5ba2b1": {
          "model_module": "@jupyter-widgets/base",
          "model_name": "LayoutModel",
          "model_module_version": "1.2.0",
          "state": {
            "_view_name": "LayoutView",
            "grid_template_rows": null,
            "right": null,
            "justify_content": null,
            "_view_module": "@jupyter-widgets/base",
            "overflow": null,
            "_model_module_version": "1.2.0",
            "_view_count": null,
            "flex_flow": null,
            "width": null,
            "min_width": null,
            "border": null,
            "align_items": null,
            "bottom": null,
            "_model_module": "@jupyter-widgets/base",
            "top": null,
            "grid_column": null,
            "overflow_y": null,
            "overflow_x": null,
            "grid_auto_flow": null,
            "grid_area": null,
            "grid_template_columns": null,
            "flex": null,
            "_model_name": "LayoutModel",
            "justify_items": null,
            "grid_row": null,
            "max_height": null,
            "align_content": null,
            "visibility": null,
            "align_self": null,
            "height": null,
            "min_height": null,
            "padding": null,
            "grid_auto_rows": null,
            "grid_gap": null,
            "max_width": null,
            "order": null,
            "_view_module_version": "1.2.0",
            "grid_template_areas": null,
            "object_position": null,
            "object_fit": null,
            "grid_auto_columns": null,
            "margin": null,
            "display": null,
            "left": null
          }
        }
      }
    }
  },
  "cells": [
    {
      "cell_type": "markdown",
      "metadata": {
        "id": "9YRrOloHzlvD"
      },
      "source": [
        "# **Basic Python & Jupyter**"
      ]
    },
    {
      "cell_type": "markdown",
      "metadata": {
        "id": "Kz8m-taUzqqz"
      },
      "source": [
        "## **Load YT Video**"
      ]
    },
    {
      "cell_type": "code",
      "metadata": {
        "colab": {
          "base_uri": "https://localhost:8080/",
          "height": 337
        },
        "id": "KY1UcHgazeoK",
        "outputId": "83f898b7-12a8-4d9a-8e3c-e80a5a904587"
      },
      "source": [
        "#load yt video\n",
        "from IPython.display import YouTubeVideo\n",
        "YouTubeVideo(\"HW29067qVWk\",560,315,rel=0)"
      ],
      "execution_count": 1,
      "outputs": [
        {
          "output_type": "execute_result",
          "data": {
            "text/html": [
              "\n",
              "        <iframe\n",
              "            width=\"560\"\n",
              "            height=\"315\"\n",
              "            src=\"https://www.youtube.com/embed/HW29067qVWk?rel=0\"\n",
              "            frameborder=\"0\"\n",
              "            allowfullscreen\n",
              "        ></iframe>\n",
              "        "
            ],
            "text/plain": [
              "<IPython.lib.display.YouTubeVideo at 0x7f6f1fbb6190>"
            ],
            "image/jpeg": "[encoded data removed]"
          },
          "metadata": {},
          "execution_count": 1
        }
      ]
    },
    {
      "cell_type": "markdown",
      "metadata": {
        "id": "pFyFGPfizva5"
      },
      "source": [
        "## **Interactive Widget**"
      ]
    },
    {
      "cell_type": "code",
      "metadata": {
        "colab": {
          "base_uri": "https://localhost:8080/",
          "height": 67,
          "referenced_widgets": [
            "456cfb8705d949368ff6c7a284967348",
            "f74c5320827d4adc9f3b7d9d04b932c8",
            "2e423ccb47364ec6b5c5ee4aebcd8e39",
            "f7d2ade29feb46a5a06d3eabd481e40b",
            "70635e5142e145b7a245d72593e6064f",
            "9b3b2c186cfa46379f5fd9675983ea55",
            "ab074a13442c4164be955d8e1f857c04"
          ]
        },
        "id": "2JNgWMfIzuVL",
        "outputId": "45554454-7a69-4dca-8bfb-870c64db11ab"
      },
      "source": [
        "from ipywidgets import *\n",
        "import ipywidgets as widgets\n",
        "import numpy as np\n",
        "\n",
        "def f(x):\n",
        "    return x\n",
        "\n",
        "interact(f, x=10);"
      ],
      "execution_count": 2,
      "outputs": [
        {
          "output_type": "display_data",
          "data": {
            "application/vnd.jupyter.widget-view+json": {
              "model_id": "456cfb8705d949368ff6c7a284967348",
              "version_minor": 0,
              "version_major": 2
            },
            "text/plain": [
              "interactive(children=(IntSlider(value=10, description='x', max=30, min=-10), Output()), _dom_classes=('widget-…"
            ]
          },
          "metadata": {}
        }
      ]
    },
    {
      "cell_type": "code",
      "metadata": {
        "colab": {
          "base_uri": "https://localhost:8080/",
          "height": 218,
          "referenced_widgets": [
            "c149f661e21e4f9394dff25bb4e381a0",
            "a4f7d304103e4958a0c41aa88f0a22b8",
            "0855e96f83704ec8b58aed9f2c960c36",
            "428223c6246e4a3294dee814524f4af8",
            "a92cd51962c041b2bfee9a29e40ba40a",
            "304a28d620704d289ce4e0279f5c1473",
            "8465dd6bb64d4185adf3accf72332b09",
            "45ccd843437743d993cdb8423826558b",
            "1f3285721f8d4133a60725b171b0443b",
            "bc7f319783084efe9a94573e500123b1",
            "ebef80c8b0a6439e812e7b74e3ee3404",
            "c1c4404554984a1099d29a83ce314964",
            "b06ba35b4cc1489aa85d3963e761beae",
            "956d085fdc604644bef2b3c2188605e6",
            "3cfee3f6b7ff4cdf8464bac2390b93f5",
            "126290d6f59440f7978d4181a2d4ba6f",
            "f91e59b6b7404aa18987b2721ea43ec9",
            "5df7117edb3443ad987d45c5cb4aeb28",
            "927a1ecef4f247019ada504f7e56caf1",
            "2f537b7c77fe43159112d0b2344a68f5",
            "b76a755824114858b41ddcf5c0f249f4",
            "17038df662e64ba294820e6049eaa53e",
            "6aa0cd70ac6a4ae4b012641f321e09a9",
            "2bdd5452f56242498ee42489f3157feb",
            "30de50fd1fe24884b67131e6643f9de3",
            "4324f4e037664afd9a3e9c45f06c61c4",
            "fc2f5e67a1c24875b1b97dcf1a777d62",
            "6e67d32947bf452a88b2440672ea09a5"
          ]
        },
        "id": "H_0fGennzx55",
        "outputId": "96194905-da9b-47ed-ccd9-814afddb91ac"
      },
      "source": [
        "def say_something(x):\n",
        "    \"\"\"\n",
        "    Print the current widget value in short sentence\n",
        "    \"\"\"\n",
        "    print(f'Widget says: {x}')\n",
        " \n",
        "widgets.interact(say_something, x=[0, 1, 2, 3])\n",
        "widgets.interact(say_something, x=(0, 10, 1))\n",
        "widgets.interact(say_something, x=(0, 10, .5))\n",
        "_ = widgets.interact(say_something, x=True)"
      ],
      "execution_count": 3,
      "outputs": [
        {
          "output_type": "display_data",
          "data": {
            "application/vnd.jupyter.widget-view+json": {
              "model_id": "c149f661e21e4f9394dff25bb4e381a0",
              "version_minor": 0,
              "version_major": 2
            },
            "text/plain": [
              "interactive(children=(Dropdown(description='x', options=(0, 1, 2, 3), value=0), Output()), _dom_classes=('widg…"
            ]
          },
          "metadata": {}
        },
        {
          "output_type": "display_data",
          "data": {
            "application/vnd.jupyter.widget-view+json": {
              "model_id": "45ccd843437743d993cdb8423826558b",
              "version_minor": 0,
              "version_major": 2
            },
            "text/plain": [
              "interactive(children=(IntSlider(value=5, description='x', max=10), Output()), _dom_classes=('widget-interact',…"
            ]
          },
          "metadata": {}
        },
        {
          "output_type": "display_data",
          "data": {
            "application/vnd.jupyter.widget-view+json": {
              "model_id": "3cfee3f6b7ff4cdf8464bac2390b93f5",
              "version_minor": 0,
              "version_major": 2
            },
            "text/plain": [
              "interactive(children=(FloatSlider(value=5.0, description='x', max=10.0, step=0.5), Output()), _dom_classes=('w…"
            ]
          },
          "metadata": {}
        },
        {
          "output_type": "display_data",
          "data": {
            "application/vnd.jupyter.widget-view+json": {
              "model_id": "17038df662e64ba294820e6049eaa53e",
              "version_minor": 0,
              "version_major": 2
            },
            "text/plain": [
              "interactive(children=(Checkbox(value=True, description='x'), Output()), _dom_classes=('widget-interact',))"
            ]
          },
          "metadata": {}
        }
      ]
    },
    {
      "cell_type": "markdown",
      "metadata": {
        "id": "_yRO-mPfz3Yg"
      },
      "source": [
        "## **Plot**"
      ]
    },
    {
      "cell_type": "code",
      "metadata": {
        "colab": {
          "base_uri": "https://localhost:8080/",
          "height": 295
        },
        "id": "_UnxGiqUz4wQ",
        "outputId": "e525f303-480a-4706-b753-9dab3e8a3668"
      },
      "source": [
        "%matplotlib inline\n",
        "import matplotlib.pyplot as plt\n",
        "\n",
        "x = np.linspace(0,10)\n",
        "y = np.sin(x)\n",
        "z = np.cos(x)\n",
        "\n",
        "plt.plot(x,y,'b',x,z,'r')\n",
        "plt.xlabel('Radians');\n",
        "plt.ylabel('Value');\n",
        "plt.title('Plotting Demonstration')\n",
        "plt.legend(['Sin','Cos'])\n",
        "plt.grid()"
      ],
      "execution_count": 4,
      "outputs": [
        {
          "output_type": "display_data",
          "data": {
            "image/png": "[encoded data removed]",
            "text/plain": [
              "<Figure size 432x288 with 1 Axes>"
            ]
          },
          "metadata": {
            "needs_background": "light"
          }
        }
      ]
    },
    {
      "cell_type": "markdown",
      "metadata": {
        "id": "wcb10BNO0AoZ"
      },
      "source": [
        "## **Interactive Plot**"
      ]
    },
    {
      "cell_type": "code",
      "metadata": {
        "colab": {
          "base_uri": "https://localhost:8080/",
          "height": 297,
          "referenced_widgets": [
            "93a9e6f210834348b62f5453b9813f1c",
            "9e46a52fd28f4112bbaeb5c2ab7d2e2c",
            "ed0c02d5fdd144a6936b9963ef3fd5bf",
            "320bbe08849c4fbfa9b8b24ef538d317",
            "670afa0680aa42af85812cbe47a6e27d",
            "1bc952032674483f976a64f65c3669e6",
            "9801a52e9e62483cbec53811ab5ba2b1"
          ]
        },
        "id": "QrIKoDhx0CNf",
        "outputId": "1356dbae-1153-4807-d137-7d063913fecd"
      },
      "source": [
        "x = np.linspace(0, 2 * np.pi)\n",
        "\n",
        "def update(w = 1.0):\n",
        "    fig = plt.figure()\n",
        "    ax = fig.add_subplot(1, 1, 1)\n",
        "    ax.plot(x, np.sin(w * x))\n",
        "    fig.canvas.draw()\n",
        "\n",
        "interact(update);"
      ],
      "execution_count": 5,
      "outputs": [
        {
          "output_type": "display_data",
          "data": {
            "application/vnd.jupyter.widget-view+json": {
              "model_id": "93a9e6f210834348b62f5453b9813f1c",
              "version_minor": 0,
              "version_major": 2
            },
            "text/plain": [
              "interactive(children=(FloatSlider(value=1.0, description='w', max=3.0, min=-1.0), Output()), _dom_classes=('wi…"
            ]
          },
          "metadata": {}
        }
      ]
    },
    {
      "cell_type": "markdown",
      "metadata": {
        "id": "QVpKxIr40In7"
      },
      "source": [
        "## **Symbolic on Python**"
      ]
    },
    {
      "cell_type": "code",
      "metadata": {
        "colab": {
          "base_uri": "https://localhost:8080/",
          "height": 334
        },
        "id": "-uy1UwSV0FR2",
        "outputId": "5444422e-cf3d-4e04-b0a2-a4909f19c8c4"
      },
      "source": [
        "import sympy as sym\n",
        "\n",
        "sym.var('P V n R T');\n",
        "\n",
        "# Gas constant\n",
        "R = 8.314        # J/K/gmol\n",
        "R = R * 1000     # J/K/kgmol\n",
        "\n",
        "# Moles of air\n",
        "mAir = 1         # kg\n",
        "mwAir = 28.97    # kg/kg-mol\n",
        "n = mAir/mwAir   # kg-mol\n",
        "\n",
        "# Temperature\n",
        "T = 298\n",
        "\n",
        "# Equation\n",
        "eqn = sym.Eq(P*V,n*R*T)\n",
        "\n",
        "# Solve for P \n",
        "f = sym.solve(eqn,P)\n",
        "print(f[0])\n",
        "\n",
        "# Use the sympy plot function to plot\n",
        "sym.plot(f[0],(V,1,10),xlabel='Volume m**3',ylabel='Pressure Pa')"
      ],
      "execution_count": 6,
      "outputs": [
        {
          "output_type": "stream",
          "name": "stdout",
          "text": [
            "85521.9882637211/V\n"
          ]
        },
        {
          "output_type": "display_data",
          "data": {
            "image/png": "[encoded data removed]",
            "text/plain": [
              "<Figure size 432x288 with 1 Axes>"
            ]
          },
          "metadata": {
            "needs_background": "light"
          }
        },
        {
          "output_type": "execute_result",
          "data": {
            "text/plain": [
              "<sympy.plotting.plot.Plot at 0x7f6f17bf1790>"
            ]
          },
          "metadata": {},
          "execution_count": 6
        }
      ]
    },
    {
      "cell_type": "code",
      "metadata": {
        "id": "kKOjMHFZ0Lpf"
      },
      "source": [
        ""
      ],
      "execution_count": 6,
      "outputs": []
    }
  ]
}